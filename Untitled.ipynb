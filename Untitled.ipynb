{
 "cells": [
  {
   "cell_type": "code",
   "execution_count": 4,
   "id": "b45e6632-15d6-4b7c-bdb6-ab88cc12fe50",
   "metadata": {},
   "outputs": [],
   "source": [
    "import pandas as pd\n",
    "import numpy as np\n",
    "import matplotlib.pyplot as plt"
   ]
  },
  {
   "cell_type": "code",
   "execution_count": 21,
   "id": "36e67613-2bc4-40db-a8cc-38849bd22d8e",
   "metadata": {},
   "outputs": [],
   "source": [
    "from sklearn.linear_model import LinearRegression as lReg"
   ]
  },
  {
   "cell_type": "code",
   "execution_count": 63,
   "id": "d1fed190-1177-4a51-95ef-1db694920a67",
   "metadata": {},
   "outputs": [],
   "source": [
    "data = pd.read_csv(\"epa-sea-level.csv\")"
   ]
  },
  {
   "cell_type": "code",
   "execution_count": 79,
   "id": "c9180456-cb2e-46fc-92a4-24a4ec6fc349",
   "metadata": {},
   "outputs": [
    {
     "data": {
      "image/png": "[encoded data removed]",
      "text/plain": [
       "<Figure size 432x288 with 1 Axes>"
      ]
     },
     "metadata": {
      "needs_background": "light"
     },
     "output_type": "display_data"
    }
   ],
   "source": [
    "fig = plt.figure()\n",
    "ax = plt.axes()\n",
    "ax.scatter(data.Year,data[\"CSIRO Adjusted Sea Level\"],marker=\".\",s=10)\n",
    "model = lReg()\n",
    "model.fit(data.Year.values[:,np.newaxis],data[\"CSIRO Adjusted Sea Level\"].values)\n",
    "xfit = np.linspace(data.Year.values.min(),2050,1000)\n",
    "yfit = model.predict(xfit[:,np.newaxis])\n",
    "ax.plot(xfit,yfit,c=\"r\",linewidth=.8)\n",
    "model.fit(data[data.Year>2000].Year.values[:,np.newaxis],data[data.Year>2000][\"CSIRO Adjusted Sea Level\"].values)\n",
    "xfit = np.linspace(2000,2050,1000)\n",
    "yfit = model.predict(xfit[:,np.newaxis])\n",
    "ax.plot(xfit,yfit,c=\"g\",linewidth=.8)\n",
    "ax.set(xlabel=\"Year\",ylabel=\"Sea Level (inches)\",title=\"Rise in Sea Level\")\n",
    "fig.savefig(\"scatterPlot.jpeg\",dpi=1000)"
   ]
  },
  {
   "cell_type": "code",
   "execution_count": 80,
   "id": "4beecdb7-d2c0-48af-a4fc-ff0006a76107",
   "metadata": {},
   "outputs": [],
   "source": [
    "def predict(year):\n",
    "    #will return sea level at paticular year\n",
    "    return (model.coef_[0]*year)+model.intercept_"
   ]
  },
  {
   "cell_type": "code",
   "execution_count": 83,
   "id": "9dc4792c-6dca-4250-bb49-e7079ed250e9",
   "metadata": {},
   "outputs": [
    {
     "data": {
      "text/plain": [
       "15.385459013225272"
      ]
     },
     "execution_count": 83,
     "metadata": {},
     "output_type": "execute_result"
    }
   ],
   "source": [
    "predict(2050)"
   ]
  },
  {
   "cell_type": "code",
   "execution_count": null,
   "id": "b49f6442-acae-4351-b08e-b3246e807dc6",
   "metadata": {},
   "outputs": [],
   "source": []
  }
 ],
 "metadata": {
  "kernelspec": {
   "display_name": "Python 3 (ipykernel)",
   "language": "python",
   "name": "python3"
  },
  "language_info": {
   "codemirror_mode": {
    "name": "ipython",
    "version": 3
   },
   "file_extension": ".py",
   "mimetype": "text/x-python",
   "name": "python",
   "nbconvert_exporter": "python",
   "pygments_lexer": "ipython3",
   "version": "3.10.4"
  }
 },
 "nbformat": 4,
 "nbformat_minor": 5
}
